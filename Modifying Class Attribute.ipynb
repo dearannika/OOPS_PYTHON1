{
 "cells": [
  {
   "cell_type": "code",
   "execution_count": 1,
   "id": "b3e7edf4",
   "metadata": {},
   "outputs": [
    {
     "name": "stdout",
     "output_type": "stream",
     "text": [
      "6\n",
      "6\n"
     ]
    }
   ],
   "source": [
    "class Car:\n",
    "    wheels =4 #class attributes\n",
    "    \n",
    "    def __init__(self,brand):  #instant attributes\n",
    "        self.brand = brand\n",
    "Car.wheels = 6   #modify class attributes\n",
    "\n",
    "car1=Car(\"TESLA\")\n",
    "car2 = Car(\"HONDA\")\n",
    "\n",
    "print(car1.wheels)  #o/p\n",
    "print(car2.wheels)\n",
    "        "
   ]
  },
  {
   "cell_type": "code",
   "execution_count": null,
   "id": "a75ccc44",
   "metadata": {},
   "outputs": [],
   "source": []
  }
 ],
 "metadata": {
  "kernelspec": {
   "display_name": "Python 3 (ipykernel)",
   "language": "python",
   "name": "python3"
  },
  "language_info": {
   "codemirror_mode": {
    "name": "ipython",
    "version": 3
   },
   "file_extension": ".py",
   "mimetype": "text/x-python",
   "name": "python",
   "nbconvert_exporter": "python",
   "pygments_lexer": "ipython3",
   "version": "3.11.3"
  }
 },
 "nbformat": 4,
 "nbformat_minor": 5
}
