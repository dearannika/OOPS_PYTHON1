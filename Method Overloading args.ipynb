{
 "cells": [
  {
   "cell_type": "code",
   "execution_count": 1,
   "id": "8a01f820",
   "metadata": {},
   "outputs": [
    {
     "name": "stdout",
     "output_type": "stream",
     "text": [
      "3\n",
      "10\n"
     ]
    }
   ],
   "source": [
    "#Method Overloading Using *args\n",
    "class Calculator:\n",
    "    def add(self, *args):\n",
    "        return sum(args)\n",
    "\n",
    "calc = Calculator()\n",
    "print(calc.add(1, 2))  # Output: 3\n",
    "print(calc.add(1, 2, 3, 4))  # Output: 10\n"
   ]
  },
  {
   "cell_type": "code",
   "execution_count": null,
   "id": "358be0be",
   "metadata": {},
   "outputs": [],
   "source": []
  }
 ],
 "metadata": {
  "kernelspec": {
   "display_name": "Python 3 (ipykernel)",
   "language": "python",
   "name": "python3"
  },
  "language_info": {
   "codemirror_mode": {
    "name": "ipython",
    "version": 3
   },
   "file_extension": ".py",
   "mimetype": "text/x-python",
   "name": "python",
   "nbconvert_exporter": "python",
   "pygments_lexer": "ipython3",
   "version": "3.11.3"
  }
 },
 "nbformat": 4,
 "nbformat_minor": 5
}
