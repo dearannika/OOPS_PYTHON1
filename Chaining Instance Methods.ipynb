{
 "cells": [
  {
   "cell_type": "code",
   "execution_count": 1,
   "id": "5a044ac7",
   "metadata": {},
   "outputs": [
    {
     "name": "stdout",
     "output_type": "stream",
     "text": [
      "HELLO!\n"
     ]
    }
   ],
   "source": [
    "#Chaining Instance Methods\n",
    "class StringManipulator:\n",
    "    def __init__(self, text):\n",
    "        self.text = text\n",
    "\n",
    "    def to_upper(self):\n",
    "        self.text = self.text.upper()\n",
    "        return self\n",
    "\n",
    "    def add_exclamation(self):\n",
    "        self.text = self.text + \"!\"\n",
    "        return self\n",
    "\n",
    "str_obj = StringManipulator(\"hello\")\n",
    "result = str_obj.to_upper().add_exclamation().text\n",
    "print(result)  # Output: HELLO!\n",
    "\n"
   ]
  },
  {
   "cell_type": "code",
   "execution_count": null,
   "id": "9e2068bc",
   "metadata": {},
   "outputs": [],
   "source": []
  }
 ],
 "metadata": {
  "kernelspec": {
   "display_name": "Python 3 (ipykernel)",
   "language": "python",
   "name": "python3"
  },
  "language_info": {
   "codemirror_mode": {
    "name": "ipython",
    "version": 3
   },
   "file_extension": ".py",
   "mimetype": "text/x-python",
   "name": "python",
   "nbconvert_exporter": "python",
   "pygments_lexer": "ipython3",
   "version": "3.11.3"
  }
 },
 "nbformat": 4,
 "nbformat_minor": 5
}
