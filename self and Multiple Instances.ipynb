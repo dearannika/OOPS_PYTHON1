{
 "cells": [
  {
   "cell_type": "code",
   "execution_count": 1,
   "id": "2ea05d77",
   "metadata": {},
   "outputs": [
    {
     "name": "stdout",
     "output_type": "stream",
     "text": [
      "Alice is in grade 5\n",
      "Bob is in grade 6\n"
     ]
    }
   ],
   "source": [
    "#self and Multiple Instances\n",
    "class Student:\n",
    "    def __init__(self, name, grade):\n",
    "        self.name = name\n",
    "        self.grade = grade\n",
    "\n",
    "    def display(self):\n",
    "        return f\"{self.name} is in grade {self.grade}\"\n",
    "\n",
    "s1 = Student(\"Alice\", 5)\n",
    "s2 = Student(\"Bob\", 6)\n",
    "\n",
    "print(s1.display())  # Output: Alice is in grade 5\n",
    "print(s2.display())  # Output: Bob is in grade 6\n"
   ]
  },
  {
   "cell_type": "code",
   "execution_count": null,
   "id": "c817b41b",
   "metadata": {},
   "outputs": [],
   "source": []
  }
 ],
 "metadata": {
  "kernelspec": {
   "display_name": "Python 3 (ipykernel)",
   "language": "python",
   "name": "python3"
  },
  "language_info": {
   "codemirror_mode": {
    "name": "ipython",
    "version": 3
   },
   "file_extension": ".py",
   "mimetype": "text/x-python",
   "name": "python",
   "nbconvert_exporter": "python",
   "pygments_lexer": "ipython3",
   "version": "3.11.3"
  }
 },
 "nbformat": 4,
 "nbformat_minor": 5
}
