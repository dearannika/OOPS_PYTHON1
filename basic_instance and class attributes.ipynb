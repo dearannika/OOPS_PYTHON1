{
 "cells": [
  {
   "cell_type": "code",
   "execution_count": 1,
   "id": "096bdeab",
   "metadata": {},
   "outputs": [
    {
     "name": "stdout",
     "output_type": "stream",
     "text": [
      "Toyotta\n",
      "Civic\n",
      "4\n"
     ]
    }
   ],
   "source": [
    "class Car:  #blueprint of the object\n",
    "    wheels = 4  #class attribute\n",
    "    def __init__(self,brand,model):\n",
    "        self.brand =brand   #instance attributes\n",
    "        self.model =model   #instance attributes\n",
    "car1=Car(\"Toyotta\",\"Corolla\")\n",
    "car2=Car(\"Honda\",\"Civic\")\n",
    "\n",
    "print(car1.brand)  #o/p :Toyotta\n",
    "print(car2.model)  #o/p :civic\n",
    "print(car1.wheels)  #o/p class attributes\n",
    "        "
   ]
  },
  {
   "cell_type": "code",
   "execution_count": null,
   "id": "b964a102",
   "metadata": {},
   "outputs": [],
   "source": []
  }
 ],
 "metadata": {
  "kernelspec": {
   "display_name": "Python 3 (ipykernel)",
   "language": "python",
   "name": "python3"
  },
  "language_info": {
   "codemirror_mode": {
    "name": "ipython",
    "version": 3
   },
   "file_extension": ".py",
   "mimetype": "text/x-python",
   "name": "python",
   "nbconvert_exporter": "python",
   "pygments_lexer": "ipython3",
   "version": "3.11.3"
  }
 },
 "nbformat": 4,
 "nbformat_minor": 5
}
