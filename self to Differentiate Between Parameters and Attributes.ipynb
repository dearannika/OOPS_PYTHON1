{
 "cells": [
  {
   "cell_type": "code",
   "execution_count": 1,
   "id": "f841a2cc",
   "metadata": {},
   "outputs": [
    {
     "name": "stdout",
     "output_type": "stream",
     "text": [
      "'1984' by George Orwell\n"
     ]
    }
   ],
   "source": [
    "#self to Differentiate Between Parameters and Attributes\n",
    "class Book:\n",
    "    def __init__(self, title, author):\n",
    "        self.title = title  # Instance attribute\n",
    "        self.author = author  # Instance attribute\n",
    "\n",
    "    def show_details(self):\n",
    "        return f\"'{self.title}' by {self.author}\"\n",
    "\n",
    "book = Book(\"1984\", \"George Orwell\")\n",
    "print(book.show_details())  # Output: '1984' by George Orwell\n"
   ]
  },
  {
   "cell_type": "code",
   "execution_count": null,
   "id": "7d338bbc",
   "metadata": {},
   "outputs": [],
   "source": []
  }
 ],
 "metadata": {
  "kernelspec": {
   "display_name": "Python 3 (ipykernel)",
   "language": "python",
   "name": "python3"
  },
  "language_info": {
   "codemirror_mode": {
    "name": "ipython",
    "version": 3
   },
   "file_extension": ".py",
   "mimetype": "text/x-python",
   "name": "python",
   "nbconvert_exporter": "python",
   "pygments_lexer": "ipython3",
   "version": "3.11.3"
  }
 },
 "nbformat": 4,
 "nbformat_minor": 5
}
