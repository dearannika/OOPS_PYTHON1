{
 "cells": [
  {
   "cell_type": "code",
   "execution_count": 2,
   "id": "340e2f25",
   "metadata": {},
   "outputs": [
    {
     "name": "stdout",
     "output_type": "stream",
     "text": [
      "Google\n",
      "Microsoft\n"
     ]
    }
   ],
   "source": [
    "class Employee:\n",
    "    company = \"Google\"   #class attributes\n",
    "    \n",
    "    def __init__(self,name):\n",
    "        self.name=name  #instant attributes\n",
    "emp1=Employee(\"alice\")\n",
    "emp2=Employee(\"bob\")\n",
    "emp2.company=\"Microsoft\"\n",
    "\n",
    "print(emp1.company)\n",
    "print(emp2.company)\n"
   ]
  },
  {
   "cell_type": "code",
   "execution_count": null,
   "id": "c823948a",
   "metadata": {},
   "outputs": [],
   "source": []
  }
 ],
 "metadata": {
  "kernelspec": {
   "display_name": "Python 3 (ipykernel)",
   "language": "python",
   "name": "python3"
  },
  "language_info": {
   "codemirror_mode": {
    "name": "ipython",
    "version": 3
   },
   "file_extension": ".py",
   "mimetype": "text/x-python",
   "name": "python",
   "nbconvert_exporter": "python",
   "pygments_lexer": "ipython3",
   "version": "3.11.3"
  }
 },
 "nbformat": 4,
 "nbformat_minor": 5
}
