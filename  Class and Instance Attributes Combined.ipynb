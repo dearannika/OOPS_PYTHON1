{
 "cells": [
  {
   "cell_type": "code",
   "execution_count": 3,
   "id": "34d3f874",
   "metadata": {},
   "outputs": [
    {
     "name": "stdout",
     "output_type": "stream",
     "text": [
      "Dog Mammal\n",
      "Cat Mammal\n"
     ]
    }
   ],
   "source": [
    "class Animal:\n",
    "    species = \"Mammal\"  # Class attribute\n",
    "\n",
    "    def __init__(self, name):\n",
    "        self.name = name  # Instance attribute\n",
    "\n",
    "dog = Animal(\"Dog\")\n",
    "cat = Animal(\"Cat\")\n",
    "\n",
    "print(dog.name, dog.species)  # Output: Dog Mammal\n",
    "print(cat.name, cat.species)  # Output: Cat Mammal\n"
   ]
  },
  {
   "cell_type": "code",
   "execution_count": null,
   "id": "379e0dec",
   "metadata": {},
   "outputs": [],
   "source": []
  }
 ],
 "metadata": {
  "kernelspec": {
   "display_name": "Python 3 (ipykernel)",
   "language": "python",
   "name": "python3"
  },
  "language_info": {
   "codemirror_mode": {
    "name": "ipython",
    "version": 3
   },
   "file_extension": ".py",
   "mimetype": "text/x-python",
   "name": "python",
   "nbconvert_exporter": "python",
   "pygments_lexer": "ipython3",
   "version": "3.11.3"
  }
 },
 "nbformat": 4,
 "nbformat_minor": 5
}
