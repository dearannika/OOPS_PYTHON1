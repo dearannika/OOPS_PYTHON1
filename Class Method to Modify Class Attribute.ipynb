{
 "cells": [
  {
   "cell_type": "code",
   "execution_count": 1,
   "id": "1c1b061b",
   "metadata": {},
   "outputs": [
    {
     "name": "stdout",
     "output_type": "stream",
     "text": [
      "Microsoft\n"
     ]
    }
   ],
   "source": [
    "#Class Method to Modify Class Attribute\n",
    "class Employee:\n",
    "    company = \"Google\"  # Class attribute\n",
    "    \n",
    "    def __init__(self, name):\n",
    "        self.name = name  # Instance attribute\n",
    "    \n",
    "    @classmethod\n",
    "    def change_company(cls, new_company):\n",
    "        cls.company = new_company\n",
    "\n",
    "emp1 = Employee(\"Alice\")\n",
    "Employee.change_company(\"Microsoft\")\n",
    "\n",
    "print(emp1.company)  # Output: Microsoft\n"
   ]
  },
  {
   "cell_type": "code",
   "execution_count": null,
   "id": "ae19b0b4",
   "metadata": {},
   "outputs": [],
   "source": []
  }
 ],
 "metadata": {
  "kernelspec": {
   "display_name": "Python 3 (ipykernel)",
   "language": "python",
   "name": "python3"
  },
  "language_info": {
   "codemirror_mode": {
    "name": "ipython",
    "version": 3
   },
   "file_extension": ".py",
   "mimetype": "text/x-python",
   "name": "python",
   "nbconvert_exporter": "python",
   "pygments_lexer": "ipython3",
   "version": "3.11.3"
  }
 },
 "nbformat": 4,
 "nbformat_minor": 5
}
