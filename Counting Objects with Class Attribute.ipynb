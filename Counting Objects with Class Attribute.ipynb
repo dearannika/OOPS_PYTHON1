{
 "cells": [
  {
   "cell_type": "code",
   "execution_count": 1,
   "id": "631875ed",
   "metadata": {},
   "outputs": [
    {
     "name": "stdout",
     "output_type": "stream",
     "text": [
      "3\n"
     ]
    }
   ],
   "source": [
    "class Counter:\n",
    "    count =0 #class attributes\n",
    "    def __init__(self):\n",
    "        Counter.count +=1\n",
    "obj1= Counter()\n",
    "obj2=Counter()\n",
    "obj3=Counter()\n",
    "\n",
    "print(Counter.count)"
   ]
  },
  {
   "cell_type": "code",
   "execution_count": null,
   "id": "ef764c11",
   "metadata": {},
   "outputs": [],
   "source": []
  }
 ],
 "metadata": {
  "kernelspec": {
   "display_name": "Python 3 (ipykernel)",
   "language": "python",
   "name": "python3"
  },
  "language_info": {
   "codemirror_mode": {
    "name": "ipython",
    "version": 3
   },
   "file_extension": ".py",
   "mimetype": "text/x-python",
   "name": "python",
   "nbconvert_exporter": "python",
   "pygments_lexer": "ipython3",
   "version": "3.11.3"
  }
 },
 "nbformat": 4,
 "nbformat_minor": 5
}
